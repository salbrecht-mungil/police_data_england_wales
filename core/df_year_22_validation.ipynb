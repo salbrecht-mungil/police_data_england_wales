{
 "cells": [
  {
   "cell_type": "code",
   "execution_count": 31,
   "metadata": {},
   "outputs": [
    {
     "name": "stdout",
     "output_type": "stream",
     "text": [
      "<class 'pandas.core.frame.DataFrame'>\n",
      "RangeIndex: 56 entries, 6 to 61\n",
      "Data columns (total 25 columns):\n",
      " #   Column                                             Non-Null Count  Dtype \n",
      "---  ------                                             --------------  ----- \n",
      " 0   Area Code                                          56 non-null     object\n",
      " 1   Area Name                                          56 non-null     object\n",
      " 2    Total recorded crime\n",
      " (excluding fraud) [note 2]  56 non-null     int64 \n",
      " 3   Violence against the person                        56 non-null     int64 \n",
      " 4   Homicide                                           56 non-null     int64 \n",
      " 5   Violence with injury                               56 non-null     int64 \n",
      " 6   Violence without injury                            56 non-null     int64 \n",
      " 7   Stalking and harassment                            56 non-null     int64 \n",
      " 8   Death or serious injury - unlawful driving         56 non-null     int64 \n",
      " 9   Sexual offences                                    56 non-null     int64 \n",
      " 10  Robbery                                            56 non-null     int64 \n",
      " 11  Theft offences                                     56 non-null     int64 \n",
      " 12  Burglary                                           56 non-null     int64 \n",
      " 13  Residential burglary                               56 non-null     int64 \n",
      " 14  Non-Residential burglary                           56 non-null     int64 \n",
      " 15  Vehicle offences                                   56 non-null     int64 \n",
      " 16  Theft from the person                              56 non-null     int64 \n",
      " 17  Bicycle theft                                      56 non-null     int64 \n",
      " 18  Shoplifting                                        56 non-null     int64 \n",
      " 19  Other theft offences                               56 non-null     int64 \n",
      " 20  Criminal damage and arson                          56 non-null     int64 \n",
      " 21  Drug offences                                      56 non-null     int64 \n",
      " 22  Possession of weapons offences                     56 non-null     int64 \n",
      " 23  Public order offences                              56 non-null     int64 \n",
      " 24  Miscellaneous crimes                               56 non-null     int64 \n",
      "dtypes: int64(23), object(2)\n",
      "memory usage: 11.1+ KB\n",
      "None\n"
     ]
    },
    {
     "name": "stderr",
     "output_type": "stream",
     "text": [
      "/var/folders/r5/qnwpmxzx5x78cp2ynw8wvqnr0000gn/T/ipykernel_45511/1622348806.py:17: SettingWithCopyWarning: \n",
      "A value is trying to be set on a copy of a slice from a DataFrame.\n",
      "Try using .loc[row_indexer,col_indexer] = value instead\n",
      "\n",
      "See the caveats in the documentation: https://pandas.pydata.org/pandas-docs/stable/user_guide/indexing.html#returning-a-view-versus-a-copy\n",
      "  df_year_22_updated[column] = df_year_22_updated[column].astype(str)\n",
      "/var/folders/r5/qnwpmxzx5x78cp2ynw8wvqnr0000gn/T/ipykernel_45511/1622348806.py:19: SettingWithCopyWarning: \n",
      "A value is trying to be set on a copy of a slice from a DataFrame.\n",
      "Try using .loc[row_indexer,col_indexer] = value instead\n",
      "\n",
      "See the caveats in the documentation: https://pandas.pydata.org/pandas-docs/stable/user_guide/indexing.html#returning-a-view-versus-a-copy\n",
      "  df_year_22_updated[column] = df_year_22_updated[column].astype(int)\n"
     ]
    }
   ],
   "source": [
    "from dataframe_definition import df_year_22\n",
    "import pandas as pd\n",
    "import matplotlib.pyplot as plt\n",
    "import seaborn as sns\n",
    "\n",
    "# Inspecting the table and its contents\n",
    "print(df_year_22.head(10))\n",
    "# Delete first 5 rows and reassign header\n",
    "df_year_22_header = df_year_22.iloc[5]\n",
    "df_year_22.columns = df_year_22_header\n",
    "df_year_22_updated = df_year_22.iloc[6:]\n",
    "# Check datatypes of df_year_22_updated\n",
    "print(df_year_22_updated.info())\n",
    "# Change all dtypes to int except for 'Area Code' and 'Area Name'\n",
    "for column in df_year_22_updated:\n",
    "  if column == 'Area Code' or column == 'Area Name':\n",
    "    df_year_22_updated[column] = df_year_22_updated[column].astype(str)\n",
    "  else:\n",
    "    df_year_22_updated[column] = df_year_22_updated[column].astype(int)\n",
    "print(df_year_22_updated.info())\n",
    "# table_p1_updated.rename(columns={' Total recorded crime\\n (excluding fraud) [note 2]': 'Total crime excl fraud'}, inplace=True)\n",
    "# table_p1_updated['Miscellaneous crimes'] = table_p1_updated['Miscellaneous crimes'].astype(int)\n",
    "# table_p1_updated['Total crime excl fraud'] = table_p1_updated['Total crime excl fraud'].astype(int)\n",
    "# table_p1_updated['Area Code'] = table_p1_updated['Area Code'].astype(str)\n",
    "# table_p1_updated['Area Name'] = table_p1_updated['Area Name'].astype(str)\n",
    "\n",
    "\n",
    "# # setting the dimensions of the plot\n",
    "# fig, ax = plt.subplots(figsize=(8, 12))\n",
    "# sns.barplot(y='Area Name', x='Total crime excl fraud', data=table_p1_updated, ax=ax)\n",
    "# plt.xticks(rotation = 90)\n",
    "# plt.show()"
   ]
  },
  {
   "cell_type": "code",
   "execution_count": null,
   "metadata": {},
   "outputs": [],
   "source": []
  }
 ],
 "metadata": {
  "kernelspec": {
   "display_name": "Python 3.8.2 64-bit",
   "language": "python",
   "name": "python3"
  },
  "language_info": {
   "codemirror_mode": {
    "name": "ipython",
    "version": 3
   },
   "file_extension": ".py",
   "mimetype": "text/x-python",
   "name": "python",
   "nbconvert_exporter": "python",
   "pygments_lexer": "ipython3",
   "version": "3.8.2"
  },
  "orig_nbformat": 4,
  "vscode": {
   "interpreter": {
    "hash": "31f2aee4e71d21fbe5cf8b01ff0e069b9275f58929596ceb00d14d90e3e16cd6"
   }
  }
 },
 "nbformat": 4,
 "nbformat_minor": 2
}
